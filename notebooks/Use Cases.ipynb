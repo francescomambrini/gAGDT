{
 "cells": [
  {
   "cell_type": "markdown",
   "metadata": {},
   "source": [
    "# Introduction"
   ]
  },
  {
   "cell_type": "markdown",
   "metadata": {},
   "source": [
    "In this notebook, I document some of the use cases that I imagine for the gAGDT and where I see possible development opportunity. Some of the use case are readily implemented, but some of them are rather complicated (at least for me)."
   ]
  },
  {
   "cell_type": "markdown",
   "metadata": {},
   "source": [
    "At this moment I envisage at least two big classes of use cases, i.e.:\n",
    "* query and visualization/browsing of the results\n",
    "* modifying the results"
   ]
  },
  {
   "cell_type": "markdown",
   "metadata": {},
   "source": [
    "For the purposes of this illustration I will only load some very basic modules: obviously, we need to interface with our graph.db and I'll use `py2neo` to do it. Then, I'll make use of the integration between cypher (Neo4j's query language) and Jupyter Notebook by using the cypher library for jupyter; I will also make use of the integration between Jupyter's cypher library and Python's `pandas`. Finally, I will show how I tried to implement some of the OGM logic (Object-Graph Mapping) of `py2neo` to the gAGDT. The [OGM interface](http://py2neo.org/v3/ogm.html) of `py2neo` offers you the opportunity to binding the graph nodes and entities to Python objects. For this, I have written a small module that can be found in the github repo under:\n",
    "\n",
    "https://github.com/francescomambrini/gAGDT/object.py"
   ]
  },
  {
   "cell_type": "code",
   "execution_count": 1,
   "metadata": {},
   "outputs": [],
   "source": [
    "from py2neo import Graph, Node, Relationship\n",
    "from py2neo.ogm import GraphObject, Property, RelatedTo, RelatedFrom, RelatedObjects"
   ]
  },
  {
   "cell_type": "code",
   "execution_count": 2,
   "metadata": {},
   "outputs": [],
   "source": [
    "from objects import Sentence, Token, Artificial"
   ]
  },
  {
   "cell_type": "code",
   "execution_count": 3,
   "metadata": {},
   "outputs": [],
   "source": [
    "import pandas as pd"
   ]
  },
  {
   "cell_type": "code",
   "execution_count": 4,
   "metadata": {},
   "outputs": [],
   "source": [
    "# loading the DB configurations (username and password)\n",
    "import json\n",
    "import os\n",
    "with open(os.path.expanduser(\"~/.config/neo.json\")) as f:\n",
    "    conf = json.load(f)"
   ]
  },
  {
   "cell_type": "code",
   "execution_count": 6,
   "metadata": {},
   "outputs": [],
   "source": [
    "g = Graph(password=conf[\"pwd\"])\n",
    "conn = \"http://neo4j:{}@localhost:7474/db/data\".format(conf[\"pwd\"])"
   ]
  },
  {
   "cell_type": "code",
   "execution_count": 7,
   "metadata": {},
   "outputs": [],
   "source": [
    "%load_ext cypher"
   ]
  },
  {
   "cell_type": "code",
   "execution_count": 8,
   "metadata": {},
   "outputs": [],
   "source": [
    "%matplotlib inline"
   ]
  },
  {
   "cell_type": "markdown",
   "metadata": {},
   "source": [
    "# Query"
   ]
  },
  {
   "cell_type": "markdown",
   "metadata": {},
   "source": [
    "## Some basic use cases"
   ]
  },
  {
   "cell_type": "markdown",
   "metadata": {},
   "source": [
    "### Most frequent substantives used as accusative objects of verbs"
   ]
  },
  {
   "cell_type": "markdown",
   "metadata": {},
   "source": [
    "We want a list of the most used objects of the verbs in the AGDT. The requirements of this query are very easy:\n",
    "* a governing node that has the Part of Speech (POS) \"verb\"\n",
    "* a governed node that:\n",
    "    * is linked to the governing node with the relation `OBJ`\n",
    "    * has case = accusative\n",
    "    * has pos = noun\n",
    "    \n",
    "We want a list with counts. This is very easily implemented in cypher and can be easily satisfied even by using Neo4j browser."
   ]
  },
  {
   "cell_type": "markdown",
   "metadata": {},
   "source": [
    "The query looks like this:\n",
    "\n",
    "```cypher\n",
    "MATCH (h:Token)-[r:Dependency {type : \"OBJ\"}]->(d:Token)\n",
    "WHERE d.case = \"accusative\"\n",
    "and h.pos = \"verb\"\n",
    "and d.pos = \"noun\"\n",
    "RETURN h.lemma as `Head`, d.lemma as `Dependent`, count(*) as `Tot` ORDER BY `Tot` DESC\n",
    "```\n",
    "\n",
    "Or even, in a more compat way, using the key:value syntax for node properties:\n",
    "\n",
    "```cypher\n",
    "MATCH (h:Token {pos : \"verb\"})-[r:Dependency {type : \"OBJ\"}]->(d:Token {pos : \"noun\", case : \"accusative\"})\n",
    "RETURN h.lemma as `Head`, d.lemma as `Dependent`, count(*) as `Tot` ORDER by `Tot` DESC\n",
    "```"
   ]
  },
  {
   "cell_type": "markdown",
   "metadata": {},
   "source": [
    "(Note that with the `RETURN ... AS` statement we are just specifying a custom column name that we want to use for the result: it can be omitted)"
   ]
  },
  {
   "cell_type": "markdown",
   "metadata": {},
   "source": [
    "Using the cypher integration in Jupyter this query is run like that:"
   ]
  },
  {
   "cell_type": "code",
   "execution_count": 9,
   "metadata": {},
   "outputs": [
    {
     "name": "stdout",
     "output_type": "stream",
     "text": [
      "7963 rows affected.\n"
     ]
    }
   ],
   "source": [
    "res = %cypher {conn} MATCH (h:Token)-[r:Dependency]->(d:Token) \\\n",
    "    WHERE d.case = \"accusative\" \\\n",
    "    and h.pos = \"verb\" \\\n",
    "    and d.pos = \"noun\" \\\n",
    "    and r.type = \"OBJ\" \\\n",
    "    RETURN h.lemma as `Head`, d.lemma as `Dependent`, count(*) as `Tot` ORDER BY `Tot` DESC"
   ]
  },
  {
   "cell_type": "markdown",
   "metadata": {},
   "source": [
    "(Here we are saving the results to a python variable that we can reuse in our code).\n",
    "\n",
    "One thing I *love* about using cypher from Jupyter is that you can immediately load the result of your query to a `pandas` DataFrame and then do all sort of data analysis that is supported by this more than awesome library. It is a easy as that: "
   ]
  },
  {
   "cell_type": "code",
   "execution_count": 21,
   "metadata": {},
   "outputs": [],
   "source": [
    "df = res.get_dataframe()"
   ]
  },
  {
   "cell_type": "code",
   "execution_count": 22,
   "metadata": {},
   "outputs": [
    {
     "data": {
      "text/html": [
       "<div>\n",
       "<style scoped>\n",
       "    .dataframe tbody tr th:only-of-type {\n",
       "        vertical-align: middle;\n",
       "    }\n",
       "\n",
       "    .dataframe tbody tr th {\n",
       "        vertical-align: top;\n",
       "    }\n",
       "\n",
       "    .dataframe thead th {\n",
       "        text-align: right;\n",
       "    }\n",
       "</style>\n",
       "<table border=\"1\" class=\"dataframe\">\n",
       "  <thead>\n",
       "    <tr style=\"text-align: right;\">\n",
       "      <th></th>\n",
       "      <th>Head</th>\n",
       "      <th>Dependent</th>\n",
       "      <th>Tot</th>\n",
       "    </tr>\n",
       "  </thead>\n",
       "  <tbody>\n",
       "    <tr>\n",
       "      <th>0</th>\n",
       "      <td>προσαυδάω</td>\n",
       "      <td>ἔπος</td>\n",
       "      <td>113</td>\n",
       "    </tr>\n",
       "    <tr>\n",
       "      <th>1</th>\n",
       "      <td>εἶπον</td>\n",
       "      <td>μῦθος</td>\n",
       "      <td>70</td>\n",
       "    </tr>\n",
       "    <tr>\n",
       "      <th>2</th>\n",
       "      <td>φημί</td>\n",
       "      <td>ἔπος</td>\n",
       "      <td>48</td>\n",
       "    </tr>\n",
       "    <tr>\n",
       "      <th>3</th>\n",
       "      <td>χέω</td>\n",
       "      <td>δάκρυον</td>\n",
       "      <td>41</td>\n",
       "    </tr>\n",
       "    <tr>\n",
       "      <th>4</th>\n",
       "      <td>πάσχω</td>\n",
       "      <td>ἄλγος</td>\n",
       "      <td>32</td>\n",
       "    </tr>\n",
       "  </tbody>\n",
       "</table>\n",
       "</div>"
      ],
      "text/plain": [
       "        Head Dependent  Tot\n",
       "0  προσαυδάω      ἔπος  113\n",
       "1      εἶπον     μῦθος   70\n",
       "2       φημί      ἔπος   48\n",
       "3        χέω   δάκρυον   41\n",
       "4      πάσχω     ἄλγος   32"
      ]
     },
     "execution_count": 22,
     "metadata": {},
     "output_type": "execute_result"
    }
   ],
   "source": [
    "df.head()"
   ]
  },
  {
   "cell_type": "markdown",
   "metadata": {},
   "source": [
    "(Notice how the aliases we used in the `RETURN... AS...` statement of the query are now the column names of our DF. By default cypher would have returned the dotted name variable.property requested, e.g. `h.lemma`. Not as cool and, more importantly, not as handy for operations over DataFrame as what we have here...)"
   ]
  },
  {
   "cell_type": "markdown",
   "metadata": {},
   "source": [
    "Say we want to chart the most frequently used objects of the verb \"φημί\". We re-write our query and we make use of `pandas` dataframe plotting methods. (Obviously, if we want more control over our plot, we can always import `matplotlib` or `seaborn` and use them with our dataframe)"
   ]
  },
  {
   "cell_type": "code",
   "execution_count": 9,
   "metadata": {},
   "outputs": [],
   "source": [
    "q = '''MATCH (h:Token {pos : \"verb\", lemma : \"φημί\"})-[r:Dependency]->(d:Token {pos : \"noun\", case : \"accusative\"})\n",
    "RETURN h.lemma as `Head`, d.lemma as `Dependent`, count(*) as `Tot` ORDER by `Tot` DESC\n",
    "'''"
   ]
  },
  {
   "cell_type": "code",
   "execution_count": 10,
   "metadata": {},
   "outputs": [
    {
     "name": "stdout",
     "output_type": "stream",
     "text": [
      "7 rows affected.\n"
     ]
    }
   ],
   "source": [
    "res = %cypher {conn} {q}\n",
    "df = res.get_dataframe()"
   ]
  },
  {
   "cell_type": "code",
   "execution_count": 11,
   "metadata": {},
   "outputs": [
    {
     "data": {
      "text/html": [
       "<div>\n",
       "<style scoped>\n",
       "    .dataframe tbody tr th:only-of-type {\n",
       "        vertical-align: middle;\n",
       "    }\n",
       "\n",
       "    .dataframe tbody tr th {\n",
       "        vertical-align: top;\n",
       "    }\n",
       "\n",
       "    .dataframe thead th {\n",
       "        text-align: right;\n",
       "    }\n",
       "</style>\n",
       "<table border=\"1\" class=\"dataframe\">\n",
       "  <thead>\n",
       "    <tr style=\"text-align: right;\">\n",
       "      <th></th>\n",
       "      <th>Head</th>\n",
       "      <th>Dependent</th>\n",
       "      <th>Tot</th>\n",
       "    </tr>\n",
       "  </thead>\n",
       "  <tbody>\n",
       "    <tr>\n",
       "      <th>0</th>\n",
       "      <td>φημί</td>\n",
       "      <td>ἔπος</td>\n",
       "      <td>48</td>\n",
       "    </tr>\n",
       "    <tr>\n",
       "      <th>1</th>\n",
       "      <td>φημί</td>\n",
       "      <td>μῦθος</td>\n",
       "      <td>11</td>\n",
       "    </tr>\n",
       "    <tr>\n",
       "      <th>2</th>\n",
       "      <td>φημί</td>\n",
       "      <td>ἀντίον</td>\n",
       "      <td>2</td>\n",
       "    </tr>\n",
       "    <tr>\n",
       "      <th>3</th>\n",
       "      <td>φημί</td>\n",
       "      <td>μάχη</td>\n",
       "      <td>1</td>\n",
       "    </tr>\n",
       "    <tr>\n",
       "      <th>4</th>\n",
       "      <td>φημί</td>\n",
       "      <td>Πρίαμος</td>\n",
       "      <td>1</td>\n",
       "    </tr>\n",
       "    <tr>\n",
       "      <th>5</th>\n",
       "      <td>φημί</td>\n",
       "      <td>φήμη</td>\n",
       "      <td>1</td>\n",
       "    </tr>\n",
       "    <tr>\n",
       "      <th>6</th>\n",
       "      <td>φημί</td>\n",
       "      <td>ἀγγελία</td>\n",
       "      <td>1</td>\n",
       "    </tr>\n",
       "  </tbody>\n",
       "</table>\n",
       "</div>"
      ],
      "text/plain": [
       "   Head Dependent  Tot\n",
       "0  φημί      ἔπος   48\n",
       "1  φημί     μῦθος   11\n",
       "2  φημί    ἀντίον    2\n",
       "3  φημί      μάχη    1\n",
       "4  φημί   Πρίαμος    1\n",
       "5  φημί      φήμη    1\n",
       "6  φημί   ἀγγελία    1"
      ]
     },
     "execution_count": 11,
     "metadata": {},
     "output_type": "execute_result"
    }
   ],
   "source": [
    "df"
   ]
  },
  {
   "cell_type": "code",
   "execution_count": 12,
   "metadata": {},
   "outputs": [
    {
     "data": {
      "text/plain": [
       "[]"
      ]
     },
     "execution_count": 12,
     "metadata": {},
     "output_type": "execute_result"
    },
    {
     "data": {
      "image/png": "[encoded data removed]",
      "text/plain": [
       "<Figure size 864x432 with 1 Axes>"
      ]
     },
     "metadata": {
      "needs_background": "light"
     },
     "output_type": "display_data"
    }
   ],
   "source": [
    "from matplotlib import pyplot as plt\n",
    "\n",
    "ax = df.Tot.plot(kind=\"bar\", figsize=(12,6))\n",
    "\n",
    "# unfortunately, it's not very easy to set custom xtick labels from within\n",
    "# the plotting function of a DataFrame. Use `pyplot`, change the index of the df\n",
    "# or alternatively use the following code\n",
    "ax.set_xticklabels(df.Dependent, rotation=90, fontsize=\"x-large\")\n",
    "ax.plot()"
   ]
  },
  {
   "cell_type": "markdown",
   "metadata": {},
   "source": [
    "### Pie chart: how many verbs have expressed subjects"
   ]
  },
  {
   "cell_type": "code",
   "execution_count": 13,
   "metadata": {},
   "outputs": [],
   "source": [
    "q = '''MATCH (s:Sentence{author:\"Homer\"})-[{type:\"PRED\"}]->(v:Token{pos:\"verb\"})-[{type:\"SBJ\"}]->(:Token)\n",
    "with count(distinct(v)) as WithSBJ\n",
    "MATCH (s:Sentence{author:\"Homer\"})-[{type:\"PRED\"}]->(v:Token{pos:\"verb\"})\n",
    "where not (v)-[{type:\"SBJ\"}]->(:Token)\n",
    "with count(*) as NoSBJ, WithSBJ\n",
    "return WithSBJ as `With Sb expressed`, NoSBJ as `No Sb expressed`'''"
   ]
  },
  {
   "cell_type": "code",
   "execution_count": 14,
   "metadata": {},
   "outputs": [
    {
     "name": "stdout",
     "output_type": "stream",
     "text": [
      "1 rows affected.\n"
     ]
    }
   ],
   "source": [
    "res = %cypher {conn} {q}\n",
    "df = res.get_dataframe()"
   ]
  },
  {
   "cell_type": "code",
   "execution_count": 15,
   "metadata": {},
   "outputs": [
    {
     "data": {
      "image/png": "[encoded data removed]",
      "text/plain": [
       "<Figure size 1440x720 with 1 Axes>"
      ]
     },
     "metadata": {},
     "output_type": "display_data"
    }
   ],
   "source": [
    "f = df.transpose().plot.pie(subplots=True, figsize=(20,10))\n",
    "\n"
   ]
  },
  {
   "cell_type": "markdown",
   "metadata": {},
   "source": [
    "### Retrieve your results in a digital edition"
   ]
  },
  {
   "cell_type": "markdown",
   "metadata": {},
   "source": [
    "With queries such as those that we used in the previous section, it is very easy to know exactly where in the text each of our matching nodes is found. It is sufficient to expand the previous query to have cypher return the `cts urn` of either the governing or the governed word. Luckily, thanks to a great design choice of the AGDT, this information is available. It is then very trivial to get a link from our result to Perseus to read our matching pattern in context."
   ]
  },
  {
   "cell_type": "code",
   "execution_count": 13,
   "metadata": {},
   "outputs": [
    {
     "name": "stdout",
     "output_type": "stream",
     "text": [
      "11 rows affected.\n"
     ]
    }
   ],
   "source": [
    "# notice we're adding the h.cite in the return statement, \n",
    "# i.e the cts urn of the line where the governing verb is found\n",
    "q = '''MATCH (h:Token {pos : \"verb\", lemma : \"φημί\"})-[r:Dependency {type : \"OBJ\"}]->(d:Token {pos : \"noun\", case : \"accusative\", lemma : 'μῦθος'})\n",
    "RETURN h.lemma as `Head`, d.lemma as `Dependent`, h.cite as `Reference`'''\n",
    "\n",
    "res = %cypher {conn} {q}\n",
    "df = res.get_dataframe()"
   ]
  },
  {
   "cell_type": "code",
   "execution_count": 14,
   "metadata": {},
   "outputs": [
    {
     "data": {
      "text/html": [
       "<div>\n",
       "<style scoped>\n",
       "    .dataframe tbody tr th:only-of-type {\n",
       "        vertical-align: middle;\n",
       "    }\n",
       "\n",
       "    .dataframe tbody tr th {\n",
       "        vertical-align: top;\n",
       "    }\n",
       "\n",
       "    .dataframe thead th {\n",
       "        text-align: right;\n",
       "    }\n",
       "</style>\n",
       "<table border=\"1\" class=\"dataframe\">\n",
       "  <thead>\n",
       "    <tr style=\"text-align: right;\">\n",
       "      <th></th>\n",
       "      <th>Head</th>\n",
       "      <th>Dependent</th>\n",
       "      <th>Reference</th>\n",
       "    </tr>\n",
       "  </thead>\n",
       "  <tbody>\n",
       "    <tr>\n",
       "      <th>0</th>\n",
       "      <td>φημί</td>\n",
       "      <td>μῦθος</td>\n",
       "      <td>urn:cts:greekLit:tlg0012.tlg001:21.393</td>\n",
       "    </tr>\n",
       "    <tr>\n",
       "      <th>1</th>\n",
       "      <td>φημί</td>\n",
       "      <td>μῦθος</td>\n",
       "      <td>urn:cts:greekLit:tlg0012.tlg001:21.471</td>\n",
       "    </tr>\n",
       "    <tr>\n",
       "      <th>2</th>\n",
       "      <td>φημί</td>\n",
       "      <td>μῦθος</td>\n",
       "      <td>urn:cts:greekLit:tlg0012.tlg001:23.491</td>\n",
       "    </tr>\n",
       "    <tr>\n",
       "      <th>3</th>\n",
       "      <td>φημί</td>\n",
       "      <td>μῦθος</td>\n",
       "      <td>urn:cts:greekLit:tlg0012.tlg001:24.598</td>\n",
       "    </tr>\n",
       "    <tr>\n",
       "      <th>4</th>\n",
       "      <td>φημί</td>\n",
       "      <td>μῦθος</td>\n",
       "      <td>urn:cts:greekLit:tlg0012.tlg002:13.37</td>\n",
       "    </tr>\n",
       "    <tr>\n",
       "      <th>5</th>\n",
       "      <td>φημί</td>\n",
       "      <td>μῦθος</td>\n",
       "      <td>urn:cts:greekLit:tlg0012.tlg002:15.171</td>\n",
       "    </tr>\n",
       "    <tr>\n",
       "      <th>6</th>\n",
       "      <td>φημί</td>\n",
       "      <td>μῦθος</td>\n",
       "      <td>urn:cts:greekLit:tlg0012.tlg002:2.384</td>\n",
       "    </tr>\n",
       "    <tr>\n",
       "      <th>7</th>\n",
       "      <td>φημί</td>\n",
       "      <td>μῦθος</td>\n",
       "      <td>urn:cts:greekLit:tlg0012.tlg002:20.326</td>\n",
       "    </tr>\n",
       "    <tr>\n",
       "      <th>8</th>\n",
       "      <td>φημί</td>\n",
       "      <td>μῦθος</td>\n",
       "      <td>urn:cts:greekLit:tlg0012.tlg002:21.67</td>\n",
       "    </tr>\n",
       "    <tr>\n",
       "      <th>9</th>\n",
       "      <td>φημί</td>\n",
       "      <td>μῦθος</td>\n",
       "      <td>urn:cts:greekLit:tlg0012.tlg002:6.148</td>\n",
       "    </tr>\n",
       "    <tr>\n",
       "      <th>10</th>\n",
       "      <td>φημί</td>\n",
       "      <td>μῦθος</td>\n",
       "      <td>urn:cts:greekLit:tlg0012.tlg002:8.10</td>\n",
       "    </tr>\n",
       "  </tbody>\n",
       "</table>\n",
       "</div>"
      ],
      "text/plain": [
       "    Head Dependent                               Reference\n",
       "0   φημί     μῦθος  urn:cts:greekLit:tlg0012.tlg001:21.393\n",
       "1   φημί     μῦθος  urn:cts:greekLit:tlg0012.tlg001:21.471\n",
       "2   φημί     μῦθος  urn:cts:greekLit:tlg0012.tlg001:23.491\n",
       "3   φημί     μῦθος  urn:cts:greekLit:tlg0012.tlg001:24.598\n",
       "4   φημί     μῦθος   urn:cts:greekLit:tlg0012.tlg002:13.37\n",
       "5   φημί     μῦθος  urn:cts:greekLit:tlg0012.tlg002:15.171\n",
       "6   φημί     μῦθος   urn:cts:greekLit:tlg0012.tlg002:2.384\n",
       "7   φημί     μῦθος  urn:cts:greekLit:tlg0012.tlg002:20.326\n",
       "8   φημί     μῦθος   urn:cts:greekLit:tlg0012.tlg002:21.67\n",
       "9   φημί     μῦθος   urn:cts:greekLit:tlg0012.tlg002:6.148\n",
       "10  φημί     μῦθος    urn:cts:greekLit:tlg0012.tlg002:8.10"
      ]
     },
     "execution_count": 14,
     "metadata": {},
     "output_type": "execute_result"
    }
   ],
   "source": [
    "df"
   ]
  },
  {
   "cell_type": "markdown",
   "metadata": {},
   "source": [
    "You can pass each of those URN's as a parameter to a request to Perseus like this:"
   ]
  },
  {
   "cell_type": "code",
   "execution_count": 48,
   "metadata": {
    "scrolled": false
   },
   "outputs": [
    {
     "name": "stdout",
     "output_type": "stream",
     "text": [
      "http://www.perseus.tufts.edu/hopper/text?doc=urn:cts:greekLit:tlg0012.tlg001:21.393\n"
     ]
    }
   ],
   "source": [
    "urn = df.Reference[0]\n",
    "print(\"http://www.perseus.tufts.edu/hopper/text?doc={}\".format(u))"
   ]
  },
  {
   "cell_type": "markdown",
   "metadata": {
    "collapsed": true
   },
   "source": [
    "With a bit of [`MyCapitain`](http://mycapytain.readthedocs.io/en/latest/) it would be possible to do much more sophisticated and appropriate stuff to retrieve the exact passage you're interested in (with, for instance, a given window of lines before and after the passage). That needs not concern us here."
   ]
  },
  {
   "cell_type": "markdown",
   "metadata": {},
   "source": [
    "### Visualize the results (in a meaningful way)"
   ]
  },
  {
   "cell_type": "markdown",
   "metadata": {},
   "source": [
    "Say you want to visualize the 11 sentences where φημί governs μῦθος as object. This is unfortunately something I **cannot** do at the moment with the technologies and the code I have at hand. This doesn't sound to difficult to implement, but it's a lot of work and (most likely) it involves the use of languages (such as JavaScript) or libraries that I do not master at all!\n",
    "\n",
    "Anyway, before we start coding we must be clear on the requirements! So here we go..."
   ]
  },
  {
   "cell_type": "markdown",
   "metadata": {
    "collapsed": true
   },
   "source": [
    "If you use the Neo4j browser and you visualize the results as a graph here is what the query above returns:"
   ]
  },
  {
   "cell_type": "markdown",
   "metadata": {},
   "source": [
    "![graph](img/graph.png)"
   ]
  },
  {
   "cell_type": "markdown",
   "metadata": {
    "collapsed": true
   },
   "source": [
    "Cute, but this is definitely **NOT** what any user of a treebank would ever want!\n",
    "\n",
    "The reason is that there is a crucial difference between an ordinary graph and a tree-*bank*. A treebank is a collection of peculiar graphs, i.e. the trees. Each sentence is a graph (a tree) on its own term. When we import a treebank in a graph db we're creating an \"archipelago\" of scattered islands-graphs, the sentences, that are not connected one to each other.\n",
    "\n",
    "Maybe there is a better model for adapting a treebank to a graph db, but I haven't found it..."
   ]
  },
  {
   "cell_type": "markdown",
   "metadata": {
    "collapsed": true
   },
   "source": [
    "A consequence of this mismatch is that, whenever you're talking about visualizing the result of the query, you're actually talking about visualizing the relations within the matching nodes **within the context of each sentence** where those matches are found.\n",
    "\n",
    "In other words, for the 11 matches above, what a user of a treebank expects is a series of 11 pages / 11 images displaying 11 sentences; each of the couples above are then marked wherever they appear in the sentence.\n",
    "\n",
    "**This** is a closer representation of what a user would expect to see for each of the results (the image is relative to the result n. 4 in the DataFrame, *Od.* 13.37):"
   ]
  },
  {
   "cell_type": "markdown",
   "metadata": {
    "collapsed": true
   },
   "source": [
    "![screenshot](img/arethusa_screen.png)"
   ]
  },
  {
   "cell_type": "markdown",
   "metadata": {
    "collapsed": true
   },
   "source": [
    "Or even better, try to run this query on the online PML-TreeQuery that is made available by the Prague Dependency Treebank team and incorporate a conversion of the AGDT for a project named [HamleDT](https://ufal.mff.cuni.cz/hamledt). Go to the link below and click on \"execute query\"\n",
    "\n",
    "http://hdl.handle.net/11346/PMLTQ-ML84"
   ]
  },
  {
   "cell_type": "markdown",
   "metadata": {},
   "source": [
    "Copy-paste the following query in the textbox if something is wrong with the link above:\n",
    "\n",
    "```perl\n",
    "a-node $a :=  [\n",
    "  lemma ~ 'φημ.',\n",
    "  a-node [\n",
    "    lemma ~ 'μ.+θος',\n",
    "    afun = 'Obj',\n",
    "  ]\n",
    "];\n",
    "```"
   ]
  },
  {
   "cell_type": "markdown",
   "metadata": {
    "collapsed": true
   },
   "source": [
    "This is a great way of visualizing the query result. Here's a list of the key features that make this visualization great (with some additional requirements expressed as \"it would be great if...\"):\n",
    "\n",
    "* you have a linear representation of the sentence and the tree side by side\n",
    "* the visualization is interactive: if you click on a node or a word:\n",
    "    * the corresponding node/word in the other visualization (sentence or tree) is highlighted\n",
    "    * it would be great if, by hovering/clicking on a node, I could visualize some additional properties of the node that are not shown in the tree (e.g. lemma)\n",
    "* The nodes I have requested in my queries (verb φημί and object μῦθος) are higlighted with different colors\n",
    "* I have a pagination of the 11 results\n",
    "* It would be great if I could export the tree (with the highlighted nodes) as an img, even better a vectorial image (SVG, PDF)"
   ]
  },
  {
   "cell_type": "markdown",
   "metadata": {},
   "source": [
    "Note that in cypher we will have to modify the query slightly if we want to obtain all the information we need to generate this visualization. Every time a user formulate a query that asks to retrieve all head-nodes governing a dependent via an OBJ relation and specify some property (e.g. the lemma) of node `d` and `h`, or:\n",
    "\n",
    "```cypher\n",
    "MATCH (h:Token {pos : \"verb\", lemma : \"φημί\"})-[r:OBJ]->(d:Token {pos : \"noun\", case : \"accusative\", lemma : 'μῦθος'})\n",
    "```\n",
    "\n",
    "we need to implicitly translate this request into a query that retrieves all the *sentences* that have a node `h` governing a node `d` as specified in the queries above:\n",
    "\n",
    "```cypher\n",
    "MATCH (s:Sentence)-[*]->(h:Token {pos : \"verb\", lemma : \"φημί\"})-[r:OBJ]->(d:Token {pos : \"noun\", case : \"accusative\", lemma : 'μῦθος'})\n",
    "```"
   ]
  },
  {
   "cell_type": "markdown",
   "metadata": {
    "collapsed": true
   },
   "source": [
    "The first part, `(s:Sentence)-[*]->)`, will do the trick, as it asks for a `Sentence` node whose descendant (at any distance) is a node `h` governing a node `d`."
   ]
  },
  {
   "cell_type": "markdown",
   "metadata": {},
   "source": [
    "Alternatively, the sentence each node belongs to is always retrievable from the property `address` of the node, so you can always reconstruct what the ID of the sentence is."
   ]
  },
  {
   "cell_type": "markdown",
   "metadata": {},
   "source": [
    "## Object-graph Mapping"
   ]
  },
  {
   "cell_type": "markdown",
   "metadata": {},
   "source": [
    "A little bit of Python will help you achiving a lot, actually, even in the direction of visualization!\n",
    "\n",
    "With a mapping between Python objects and DB nodes (as explained [here](https://py2neo.org/v4/ogm.html#py2neo.ogm)) you can pratically create your own API to work with nodes and relations in your database. In this way, you can also leverage the functionality of Python's amazing [NLTK](http://www.nltk.org/) to work with **Dependency Graphs**.\n",
    "\n",
    "For instance, you can use their function to visualize dependency trees. It's not exceptional, but it's something. Let's see..."
   ]
  },
  {
   "cell_type": "code",
   "execution_count": 29,
   "metadata": {},
   "outputs": [
    {
     "data": {
      "text/plain": [
       "<Sentence address='tlg0011.tlg003.perseus-grc1#2383098#0'>"
      ]
     },
     "execution_count": 29,
     "metadata": {},
     "output_type": "execute_result"
    }
   ],
   "source": [
    "s = Sentence.match(g, \"tlg0011.tlg003.perseus-grc1#2383098#0\").first()\n",
    "s"
   ]
  },
  {
   "cell_type": "code",
   "execution_count": 30,
   "metadata": {},
   "outputs": [],
   "source": [
    "depgraph = s._to_dep_graph(g)"
   ]
  },
  {
   "cell_type": "code",
   "execution_count": 31,
   "metadata": {},
   "outputs": [
    {
     "data": {
      "image/svg+xml": [
       "<?xml version=\"1.0\" encoding=\"UTF-8\" standalone=\"no\"?>\n",
       "<!DOCTYPE svg PUBLIC \"-//W3C//DTD SVG 1.1//EN\"\n",
       " \"http://www.w3.org/Graphics/SVG/1.1/DTD/svg11.dtd\">\n",
       "<!-- Generated by graphviz version 2.40.1 (20161225.0304)\n",
       " -->\n",
       "<!-- Title: G Pages: 1 -->\n",
       "<svg width=\"470pt\" height=\"566pt\"\n",
       " viewBox=\"0.00 0.00 469.50 566.00\" xmlns=\"http://www.w3.org/2000/svg\" xmlns:xlink=\"http://www.w3.org/1999/xlink\">\n",
       "<g id=\"graph0\" class=\"graph\" transform=\"scale(1 1) rotate(0) translate(4 562)\">\n",
       "<title>G</title>\n",
       "<polygon fill=\"#ffffff\" stroke=\"transparent\" points=\"-4,4 -4,-562 465.5,-562 465.5,4 -4,4\"/>\n",
       "<!-- 0 -->\n",
       "<g id=\"node1\" class=\"node\">\n",
       "<title>0</title>\n",
       "<text text-anchor=\"middle\" x=\"185\" y=\"-536.3\" font-family=\"Times,serif\" font-size=\"14.00\" fill=\"#000000\">0 (None)</text>\n",
       "</g>\n",
       "<!-- 8 -->\n",
       "<g id=\"node2\" class=\"node\">\n",
       "<title>8</title>\n",
       "<text text-anchor=\"middle\" x=\"141\" y=\"-449.3\" font-family=\"Times,serif\" font-size=\"14.00\" fill=\"#000000\">8 (δέδορκά)</text>\n",
       "</g>\n",
       "<!-- 0&#45;&gt;8 -->\n",
       "<g id=\"edge1\" class=\"edge\">\n",
       "<title>0&#45;&gt;8</title>\n",
       "<path fill=\"none\" stroke=\"#000000\" d=\"M175.8832,-521.9735C169.7476,-509.8418 161.5478,-493.6287 154.6399,-479.9698\"/>\n",
       "<polygon fill=\"#000000\" stroke=\"#000000\" points=\"157.7416,-478.3474 150.1051,-471.0034 151.495,-481.5066 157.7416,-478.3474\"/>\n",
       "<text text-anchor=\"middle\" x=\"183.5\" y=\"-492.8\" font-family=\"Times,serif\" font-size=\"14.00\" fill=\"#000000\">PRED</text>\n",
       "</g>\n",
       "<!-- 15 -->\n",
       "<g id=\"node3\" class=\"node\">\n",
       "<title>15</title>\n",
       "<text text-anchor=\"middle\" x=\"229\" y=\"-449.3\" font-family=\"Times,serif\" font-size=\"14.00\" fill=\"#000000\">15 (·)</text>\n",
       "</g>\n",
       "<!-- 0&#45;&gt;15 -->\n",
       "<g id=\"edge2\" class=\"edge\">\n",
       "<title>0&#45;&gt;15</title>\n",
       "<path fill=\"none\" stroke=\"#000000\" d=\"M195.4148,-521.8141C198.5741,-516.15 202.0007,-509.8542 205,-504 208.8903,-496.4068 212.9145,-488.0701 216.5302,-480.3771\"/>\n",
       "<polygon fill=\"#000000\" stroke=\"#000000\" points=\"219.8098,-481.6249 220.8508,-471.0814 213.4619,-478.6745 219.8098,-481.6249\"/>\n",
       "<text text-anchor=\"middle\" x=\"229\" y=\"-492.8\" font-family=\"Times,serif\" font-size=\"14.00\" fill=\"#000000\">AuxK</text>\n",
       "</g>\n",
       "<!-- 1 -->\n",
       "<g id=\"node4\" class=\"node\">\n",
       "<title>1</title>\n",
       "<text text-anchor=\"middle\" x=\"40\" y=\"-362.3\" font-family=\"Times,serif\" font-size=\"14.00\" fill=\"#000000\">1 (ἀεὶ)</text>\n",
       "</g>\n",
       "<!-- 8&#45;&gt;1 -->\n",
       "<g id=\"edge7\" class=\"edge\">\n",
       "<title>8&#45;&gt;1</title>\n",
       "<path fill=\"none\" stroke=\"#000000\" d=\"M109.3976,-434.8384C101.1304,-429.5196 92.453,-423.4006 85,-417 76.3107,-409.5377 67.7456,-400.4083 60.4581,-391.9466\"/>\n",
       "<polygon fill=\"#000000\" stroke=\"#000000\" points=\"63.0036,-389.5348 53.9003,-384.1146 57.6366,-394.0287 63.0036,-389.5348\"/>\n",
       "<text text-anchor=\"middle\" x=\"100\" y=\"-405.8\" font-family=\"Times,serif\" font-size=\"14.00\" fill=\"#000000\">ADV</text>\n",
       "</g>\n",
       "<!-- 2 -->\n",
       "<g id=\"node5\" class=\"node\">\n",
       "<title>2</title>\n",
       "<text text-anchor=\"middle\" x=\"113\" y=\"-362.3\" font-family=\"Times,serif\" font-size=\"14.00\" fill=\"#000000\">2 (μέν)</text>\n",
       "</g>\n",
       "<!-- 8&#45;&gt;2 -->\n",
       "<g id=\"edge8\" class=\"edge\">\n",
       "<title>8&#45;&gt;2</title>\n",
       "<path fill=\"none\" stroke=\"#000000\" d=\"M129.9947,-434.8096C127.0224,-429.2526 124.0619,-423.0169 122,-417 119.5434,-409.8315 117.7289,-401.8553 116.3999,-394.3802\"/>\n",
       "<polygon fill=\"#000000\" stroke=\"#000000\" points=\"119.8247,-393.6254 114.8281,-384.2828 112.908,-394.7022 119.8247,-393.6254\"/>\n",
       "<text text-anchor=\"middle\" x=\"139\" y=\"-405.8\" font-family=\"Times,serif\" font-size=\"14.00\" fill=\"#000000\">AuxY</text>\n",
       "</g>\n",
       "<!-- 5 -->\n",
       "<g id=\"node8\" class=\"node\">\n",
       "<title>5</title>\n",
       "<text text-anchor=\"middle\" x=\"187\" y=\"-362.3\" font-family=\"Times,serif\" font-size=\"14.00\" fill=\"#000000\">5 (παῖ)</text>\n",
       "</g>\n",
       "<!-- 8&#45;&gt;5 -->\n",
       "<g id=\"edge9\" class=\"edge\">\n",
       "<title>8&#45;&gt;5</title>\n",
       "<path fill=\"none\" stroke=\"#000000\" d=\"M150.5312,-434.9735C156.9457,-422.8418 165.5182,-406.6287 172.7401,-392.9698\"/>\n",
       "<polygon fill=\"#000000\" stroke=\"#000000\" points=\"175.9008,-394.4797 177.481,-384.0034 169.7126,-391.2077 175.9008,-394.4797\"/>\n",
       "<text text-anchor=\"middle\" x=\"179.5\" y=\"-405.8\" font-family=\"Times,serif\" font-size=\"14.00\" fill=\"#000000\">ExD</text>\n",
       "</g>\n",
       "<!-- 9 -->\n",
       "<g id=\"node11\" class=\"node\">\n",
       "<title>9</title>\n",
       "<text text-anchor=\"middle\" x=\"306\" y=\"-362.3\" font-family=\"Times,serif\" font-size=\"14.00\" fill=\"#000000\">9 (σε)</text>\n",
       "</g>\n",
       "<!-- 8&#45;&gt;9 -->\n",
       "<g id=\"edge10\" class=\"edge\">\n",
       "<title>8&#45;&gt;9</title>\n",
       "<path fill=\"none\" stroke=\"#000000\" d=\"M175.1881,-434.9735C202.8351,-420.396 241.6584,-399.9256 269.8238,-385.0747\"/>\n",
       "<polygon fill=\"#000000\" stroke=\"#000000\" points=\"271.7222,-388.0305 278.9355,-380.2704 268.4573,-381.8385 271.7222,-388.0305\"/>\n",
       "<text text-anchor=\"middle\" x=\"246.5\" y=\"-405.8\" font-family=\"Times,serif\" font-size=\"14.00\" fill=\"#000000\">OBJ</text>\n",
       "</g>\n",
       "<!-- 3 -->\n",
       "<g id=\"node6\" class=\"node\">\n",
       "<title>3</title>\n",
       "<text text-anchor=\"middle\" x=\"27\" y=\"-275.3\" font-family=\"Times,serif\" font-size=\"14.00\" fill=\"#000000\">3 (,)</text>\n",
       "</g>\n",
       "<!-- 4 -->\n",
       "<g id=\"node7\" class=\"node\">\n",
       "<title>4</title>\n",
       "<text text-anchor=\"middle\" x=\"99\" y=\"-275.3\" font-family=\"Times,serif\" font-size=\"14.00\" fill=\"#000000\">4 (ὦ)</text>\n",
       "</g>\n",
       "<!-- 5&#45;&gt;3 -->\n",
       "<g id=\"edge3\" class=\"edge\">\n",
       "<title>5&#45;&gt;3</title>\n",
       "<path fill=\"none\" stroke=\"#000000\" d=\"M159.2495,-352.1531C156.1479,-350.7092 153.0191,-349.2971 150,-348 129.0661,-339.0065 122.2306,-340.4802 102,-330 87.0902,-322.2761 71.5877,-312.1374 58.5736,-302.936\"/>\n",
       "<polygon fill=\"#000000\" stroke=\"#000000\" points=\"60.5724,-300.0624 50.412,-297.0595 56.4822,-305.7431 60.5724,-300.0624\"/>\n",
       "<text text-anchor=\"middle\" x=\"118\" y=\"-318.8\" font-family=\"Times,serif\" font-size=\"14.00\" fill=\"#000000\">AuxZ</text>\n",
       "</g>\n",
       "<!-- 5&#45;&gt;4 -->\n",
       "<g id=\"edge4\" class=\"edge\">\n",
       "<title>5&#45;&gt;4</title>\n",
       "<path fill=\"none\" stroke=\"#000000\" d=\"M168.7663,-347.9735C156.0232,-335.3752 138.8281,-318.3755 124.6976,-304.4055\"/>\n",
       "<polygon fill=\"#000000\" stroke=\"#000000\" points=\"126.7824,-301.545 117.2103,-297.0034 121.861,-306.5229 126.7824,-301.545\"/>\n",
       "<text text-anchor=\"middle\" x=\"165\" y=\"-318.8\" font-family=\"Times,serif\" font-size=\"14.00\" fill=\"#000000\">AuxZ</text>\n",
       "</g>\n",
       "<!-- 6 -->\n",
       "<g id=\"node9\" class=\"node\">\n",
       "<title>6</title>\n",
       "<text text-anchor=\"middle\" x=\"187\" y=\"-275.3\" font-family=\"Times,serif\" font-size=\"14.00\" fill=\"#000000\">6 (Λαρτίου)</text>\n",
       "</g>\n",
       "<!-- 5&#45;&gt;6 -->\n",
       "<g id=\"edge5\" class=\"edge\">\n",
       "<title>5&#45;&gt;6</title>\n",
       "<path fill=\"none\" stroke=\"#000000\" d=\"M187,-347.9735C187,-336.1918 187,-320.5607 187,-307.1581\"/>\n",
       "<polygon fill=\"#000000\" stroke=\"#000000\" points=\"190.5001,-307.0033 187,-297.0034 183.5001,-307.0034 190.5001,-307.0033\"/>\n",
       "<text text-anchor=\"middle\" x=\"201\" y=\"-318.8\" font-family=\"Times,serif\" font-size=\"14.00\" fill=\"#000000\">ATR</text>\n",
       "</g>\n",
       "<!-- 7 -->\n",
       "<g id=\"node10\" class=\"node\">\n",
       "<title>7</title>\n",
       "<text text-anchor=\"middle\" x=\"275\" y=\"-275.3\" font-family=\"Times,serif\" font-size=\"14.00\" fill=\"#000000\">7 (,)</text>\n",
       "</g>\n",
       "<!-- 5&#45;&gt;7 -->\n",
       "<g id=\"edge6\" class=\"edge\">\n",
       "<title>5&#45;&gt;7</title>\n",
       "<path fill=\"none\" stroke=\"#000000\" d=\"M205.2337,-347.9735C217.9768,-335.3752 235.1719,-318.3755 249.3024,-304.4055\"/>\n",
       "<polygon fill=\"#000000\" stroke=\"#000000\" points=\"252.139,-306.5229 256.7897,-297.0034 247.2176,-301.545 252.139,-306.5229\"/>\n",
       "<text text-anchor=\"middle\" x=\"254\" y=\"-318.8\" font-family=\"Times,serif\" font-size=\"14.00\" fill=\"#000000\">AuxX</text>\n",
       "</g>\n",
       "<!-- 14 -->\n",
       "<g id=\"node12\" class=\"node\">\n",
       "<title>14</title>\n",
       "<text text-anchor=\"middle\" x=\"374\" y=\"-275.3\" font-family=\"Times,serif\" font-size=\"14.00\" fill=\"#000000\">14 (θηρώμενον)</text>\n",
       "</g>\n",
       "<!-- 9&#45;&gt;14 -->\n",
       "<g id=\"edge11\" class=\"edge\">\n",
       "<title>9&#45;&gt;14</title>\n",
       "<path fill=\"none\" stroke=\"#000000\" d=\"M320.0896,-347.9735C329.7543,-335.6085 342.7328,-319.0036 353.5338,-305.1847\"/>\n",
       "<polygon fill=\"#000000\" stroke=\"#000000\" points=\"356.5278,-307.0376 359.9284,-297.0034 351.0126,-302.7269 356.5278,-307.0376\"/>\n",
       "<text text-anchor=\"middle\" x=\"359\" y=\"-318.8\" font-family=\"Times,serif\" font-size=\"14.00\" fill=\"#000000\">ATV</text>\n",
       "</g>\n",
       "<!-- 13 -->\n",
       "<g id=\"node16\" class=\"node\">\n",
       "<title>13</title>\n",
       "<text text-anchor=\"middle\" x=\"374\" y=\"-188.3\" font-family=\"Times,serif\" font-size=\"14.00\" fill=\"#000000\">13 (ἁρπάσαι)</text>\n",
       "</g>\n",
       "<!-- 14&#45;&gt;13 -->\n",
       "<g id=\"edge15\" class=\"edge\">\n",
       "<title>14&#45;&gt;13</title>\n",
       "<path fill=\"none\" stroke=\"#000000\" d=\"M374,-260.9735C374,-249.1918 374,-233.5607 374,-220.1581\"/>\n",
       "<polygon fill=\"#000000\" stroke=\"#000000\" points=\"377.5001,-220.0033 374,-210.0034 370.5001,-220.0034 377.5001,-220.0033\"/>\n",
       "<text text-anchor=\"middle\" x=\"386.5\" y=\"-231.8\" font-family=\"Times,serif\" font-size=\"14.00\" fill=\"#000000\">OBJ</text>\n",
       "</g>\n",
       "<!-- 10 -->\n",
       "<g id=\"node13\" class=\"node\">\n",
       "<title>10</title>\n",
       "<text text-anchor=\"middle\" x=\"374\" y=\"-101.3\" font-family=\"Times,serif\" font-size=\"14.00\" fill=\"#000000\">10 (πεῖράν)</text>\n",
       "</g>\n",
       "<!-- 11 -->\n",
       "<g id=\"node14\" class=\"node\">\n",
       "<title>11</title>\n",
       "<text text-anchor=\"middle\" x=\"329\" y=\"-14.3\" font-family=\"Times,serif\" font-size=\"14.00\" fill=\"#000000\">11 (τιν̓)</text>\n",
       "</g>\n",
       "<!-- 10&#45;&gt;11 -->\n",
       "<g id=\"edge12\" class=\"edge\">\n",
       "<title>10&#45;&gt;11</title>\n",
       "<path fill=\"none\" stroke=\"#000000\" d=\"M364.676,-86.9735C358.4009,-74.8418 350.0148,-58.6287 342.9499,-44.9698\"/>\n",
       "<polygon fill=\"#000000\" stroke=\"#000000\" points=\"346.0151,-43.2776 338.3121,-36.0034 339.7976,-46.4935 346.0151,-43.2776\"/>\n",
       "<text text-anchor=\"middle\" x=\"369\" y=\"-57.8\" font-family=\"Times,serif\" font-size=\"14.00\" fill=\"#000000\">ATR</text>\n",
       "</g>\n",
       "<!-- 12 -->\n",
       "<g id=\"node15\" class=\"node\">\n",
       "<title>12</title>\n",
       "<text text-anchor=\"middle\" x=\"419\" y=\"-14.3\" font-family=\"Times,serif\" font-size=\"14.00\" fill=\"#000000\">12 (ἐχθρῶν)</text>\n",
       "</g>\n",
       "<!-- 10&#45;&gt;12 -->\n",
       "<g id=\"edge13\" class=\"edge\">\n",
       "<title>10&#45;&gt;12</title>\n",
       "<path fill=\"none\" stroke=\"#000000\" d=\"M383.324,-86.9735C389.5991,-74.8418 397.9852,-58.6287 405.0501,-44.9698\"/>\n",
       "<polygon fill=\"#000000\" stroke=\"#000000\" points=\"408.2024,-46.4935 409.6879,-36.0034 401.9849,-43.2776 408.2024,-46.4935\"/>\n",
       "<text text-anchor=\"middle\" x=\"414\" y=\"-57.8\" font-family=\"Times,serif\" font-size=\"14.00\" fill=\"#000000\">ATR</text>\n",
       "</g>\n",
       "<!-- 13&#45;&gt;10 -->\n",
       "<g id=\"edge14\" class=\"edge\">\n",
       "<title>13&#45;&gt;10</title>\n",
       "<path fill=\"none\" stroke=\"#000000\" d=\"M374,-173.9735C374,-162.1918 374,-146.5607 374,-133.1581\"/>\n",
       "<polygon fill=\"#000000\" stroke=\"#000000\" points=\"377.5001,-133.0033 374,-123.0034 370.5001,-133.0034 377.5001,-133.0033\"/>\n",
       "<text text-anchor=\"middle\" x=\"386.5\" y=\"-144.8\" font-family=\"Times,serif\" font-size=\"14.00\" fill=\"#000000\">OBJ</text>\n",
       "</g>\n",
       "</g>\n",
       "</svg>\n"
      ],
      "text/plain": [
       "<DependencyGraph with 16 nodes>"
      ]
     },
     "execution_count": 31,
     "metadata": {},
     "output_type": "execute_result"
    }
   ],
   "source": [
    "depgraph"
   ]
  },
  {
   "cell_type": "code",
   "execution_count": 36,
   "metadata": {},
   "outputs": [
    {
     "name": "stdout",
     "output_type": "stream",
     "text": [
      "(δέδορκά\n",
      "  ἀεὶ\n",
      "  μέν\n",
      "  (παῖ , ὦ Λαρτίου ,)\n",
      "  (σε (θηρώμενον (ἁρπάσαι (πεῖράν τιν̓ ἐχθρῶν)))))\n"
     ]
    }
   ],
   "source": [
    "t = depgraph.tree()\n",
    "print(t)"
   ]
  },
  {
   "cell_type": "code",
   "execution_count": null,
   "metadata": {},
   "outputs": [],
   "source": []
  },
  {
   "cell_type": "markdown",
   "metadata": {},
   "source": [
    "# Editing the information in the DB"
   ]
  },
  {
   "cell_type": "markdown",
   "metadata": {},
   "source": [
    "Editing the node properties and the relations in the DB is quite possible with the extant technologies and (especially) with the OGM interface of py2neo. However, it is not exactly easy or quick...\n",
    "\n",
    "To give just one example, let us assume that in the current treebank in the sentence: `hi there, Mickey` the node `\",\"` is attached to `\"there\"` and the administrator of the gAGDT thinks it is incorrect, for it should go with `\"hi\"`. If we want to use cypher (or the OGM library) you actually have to write two queries: one to detach `\",\"` from `\"there\"`, one to attach it to `\"hi\"`. At the scale of 10, 20 or even more nodes in each sentence that becomes tedious soon enough (let alone, error-prone).\n",
    "\n",
    "There are, however, more complicated use cases..."
   ]
  },
  {
   "cell_type": "markdown",
   "metadata": {},
   "source": [
    "## Split nodes"
   ]
  },
  {
   "cell_type": "markdown",
   "metadata": {},
   "source": [
    "The AGDT contains a few errors of tokenization. For instance the tokenizer in the treebank editor fails to recognize that words written as κἀγὼ are actually made up by two tokens (καί and ἐγώ) and should be tokenized as: κἀ and γὼ or κ and ἀγὼ (that is debatable, but perhaps this second version is better).\\\\\n",
    "\n",
    "However, how can we make this correction in the DB? This apparently trivial operation translates into a list of non-trivial operation that must be performed. Let's consider one sentence in the XML format of the AGDT (Soph. *Aj.*, 24)"
   ]
  },
  {
   "cell_type": "markdown",
   "metadata": {},
   "source": [
    "```xml\n",
    "<sentence id='11' subdoc='24' document_id='urn:cts:greekLit:tlg0011.tlg003.perseus-grc1'>\n",
    "    <word id='1' form='κἀγὼ' lemma='ἐγώ' postag='p-s---mn-' relation='SBJ' cite='urn:cts:greekLit:tlg0011.tlg003:24' head='5'/>\n",
    "    <word id='2' form='̓' lemma='̓' postag='u--------' relation='AuxZ' cite='urn:cts:greekLit:tlg0011.tlg003:24' head='3'/>\n",
    "    <word id='3' form='θελοντὴς' lemma='θελοντής' postag='n-s---mn-' relation='ATV' cite='urn:cts:greekLit:tlg0011.tlg003:24' head='1'/>\n",
    "    <word id='4' form='τῷδ̓' lemma='ὅδε' postag='p-s---md-' relation='ATR' cite='urn:cts:greekLit:tlg0011.tlg003:24' head='6'/>\n",
    "    <word id='5' form='ὑπεζύγην' lemma='ὑποζεύγνυμι' postag='v1saip---' relation='PRED' cite='urn:cts:greekLit:tlg0011.tlg003:24' head='0'/>\n",
    "    <word id='6' form='πόνῳ' lemma='πόνος' postag='n-s---md-' relation='OBJ' cite='urn:cts:greekLit:tlg0011.tlg003:24' head='5'/>\n",
    "    <word id='7' form='.' lemma='.' postag='u--------' relation='AuxK' cite='' head='0'/>\n",
    "  </sentence>\n",
    "```"
   ]
  },
  {
   "cell_type": "markdown",
   "metadata": {},
   "source": [
    "The word with ID 1 should be split in two tokens. In place of a word we need two. But that, in turns, means that the current word with `rank` = 2 (this is the property of the gAGDT where we register the linear order) becomes `rank` = 3 and so on.\n",
    "\n",
    "In the XML the `id` (our `rank`) is used to refer to the governing word in the `head` property. Nodes in the gAGDT have, at least for legacy reasons, a `head` property as well, that refers to the `rank` of the governing word. Strictly speaking, this is not needed in the gAGDT, because the dependency relation is otherwhise specified, but it may be handy (especially for format conversion) to have the head recorded as property of the nodes as well, as in the XML. That needs to be updated."
   ]
  },
  {
   "cell_type": "markdown",
   "metadata": {},
   "source": [
    "## Possible solutions"
   ]
  },
  {
   "cell_type": "markdown",
   "metadata": {},
   "source": [
    "What I think would be very practical is a system that receives a tabular or xml input and automatically updates the properties and relations of the node in the sentence. By creating the nodes that are missing, deleting the nodes that do not exist anymore and updating all the properties of the nodes that needs to be updated.\n",
    "\n",
    "Even better, the admins can have a graphical preview, where they can visualize their sentences before clicking on \"update\" to verify at a glance that they haven't done any mistake in the syntactical annotation."
   ]
  },
  {
   "cell_type": "code",
   "execution_count": null,
   "metadata": {
    "collapsed": true
   },
   "outputs": [],
   "source": []
  },
  {
   "cell_type": "code",
   "execution_count": null,
   "metadata": {
    "collapsed": true
   },
   "outputs": [],
   "source": []
  },
  {
   "cell_type": "code",
   "execution_count": null,
   "metadata": {
    "collapsed": true
   },
   "outputs": [],
   "source": []
  },
  {
   "cell_type": "code",
   "execution_count": null,
   "metadata": {
    "collapsed": true
   },
   "outputs": [],
   "source": []
  },
  {
   "cell_type": "markdown",
   "metadata": {},
   "source": [
    "---"
   ]
  }
 ],
 "metadata": {
  "kernelspec": {
   "display_name": "Python 3",
   "language": "python",
   "name": "python3"
  },
  "language_info": {
   "codemirror_mode": {
    "name": "ipython",
    "version": 3
   },
   "file_extension": ".py",
   "mimetype": "text/x-python",
   "name": "python",
   "nbconvert_exporter": "python",
   "pygments_lexer": "ipython3",
   "version": "3.6.5"
  },
  "toc": {
   "nav_menu": {},
   "number_sections": true,
   "sideBar": true,
   "skip_h1_title": false,
   "toc_cell": false,
   "toc_position": {},
   "toc_section_display": "block",
   "toc_window_display": false
  }
 },
 "nbformat": 4,
 "nbformat_minor": 2
}
