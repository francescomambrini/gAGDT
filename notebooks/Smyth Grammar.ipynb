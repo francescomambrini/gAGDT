{
 "cells": [
  {
   "cell_type": "markdown",
   "metadata": {},
   "source": [
    "# Introduction"
   ]
  },
  {
   "cell_type": "markdown",
   "metadata": {},
   "source": [
    "As it can be seen, Jupyter noteeboks interact with Neo4j graph database incredibly well! For this reason, we can use them to interrogate the [gAGDT](https://github.com/francescomambrini/gAGDT) and study arguments of Ancient Greek Grammars.\n",
    "\n",
    "In this notebook, we take a few paragraphs from H.W. Smyth, *A Greek Grammar for Colleges*, starting from texts and snippets taken from the edition published in the [Perseus Digital Library](http://www.perseus.tufts.edu/hopper/text?doc=Perseus:text:1999.04.0007)"
   ]
  },
  {
   "cell_type": "markdown",
   "metadata": {},
   "source": [
    "## What we need"
   ]
  },
  {
   "cell_type": "markdown",
   "metadata": {},
   "source": [
    "Actually, not much! You'll need Jupyter to run this code and the database (in this notebook we access an online copy: contact me to get an access).\n",
    "\n",
    "Apart from that, all you need is:\n",
    "\n",
    "* [`py2neo`](http://py2neo.org/) to be able to connect with a graph db from Python\n",
    "* [`pandas`](http://pandas.pydata.org/) the much-dreaded library for data analysis in Python; not that you need it for much but:\n",
    "    * it interacts *very* well with neo4j and Jupyter\n",
    "    * it simplify your life, for you can write easier cypher queries and then manipulate the results with `pandas`\n",
    "    * it is simply awesome!\n",
    "* [`matplotlib`](https://matplotlib.org/) (`pyplot`) to generate plots from the pandas' dataframe (you can also have [`seaborn`](http://seaborn.pydata.org/) if you like)\n",
    "* the [`ipython-cypher`](https://github.com/versae/ipython-cypher) extension, to run cypher queries directly from the Jupyter notebook"
   ]
  },
  {
   "cell_type": "markdown",
   "metadata": {},
   "source": [
    "## Let's go..."
   ]
  },
  {
   "cell_type": "markdown",
   "metadata": {},
   "source": [
    "Here is all you need, really!"
   ]
  },
  {
   "cell_type": "code",
   "execution_count": 30,
   "metadata": {
    "collapsed": true
   },
   "outputs": [],
   "source": [
    "import py2neo\n",
    "from py2neo import Graph\n",
    "import pandas as pd\n",
    "from matplotlib import pyplot as plt"
   ]
  },
  {
   "cell_type": "markdown",
   "metadata": {},
   "source": [
    "The following cell is just to load some configuration to store username and pwd to access the db"
   ]
  },
  {
   "cell_type": "code",
   "execution_count": 29,
   "metadata": {},
   "outputs": [],
   "source": [
    "# loading the DB configurations (username and password)\n",
    "import json\n",
    "import os\n",
    "with open(os.path.expanduser(\"~/PycharmProjects/config/.pagdt.json\")) as f:\n",
    "    conf = json.load(f)"
   ]
  },
  {
   "cell_type": "markdown",
   "metadata": {},
   "source": [
    "Here we extablish the connection with the DB (and we store the connection data for later reuse)"
   ]
  },
  {
   "cell_type": "code",
   "execution_count": 7,
   "metadata": {
    "collapsed": true
   },
   "outputs": [],
   "source": [
    "g = Graph(\"http://pagdt.dainst.org:7474/\" ,password=conf[\"pwd\"])\n",
    "conn = \"http://{}:{}@pagdt.dainst.org:7474/db/data\".format(conf[\"user\"], conf[\"pwd\"])"
   ]
  },
  {
   "cell_type": "markdown",
   "metadata": {},
   "source": [
    "Now we load the `ipython-cypher` extension that will allow us to run cypher queries directly in our code and we set up "
   ]
  },
  {
   "cell_type": "code",
   "execution_count": 31,
   "metadata": {
    "scrolled": true
   },
   "outputs": [
    {
     "name": "stdout",
     "output_type": "stream",
     "text": [
      "The cypher extension is already loaded. To reload it, use:\n",
      "  %reload_ext cypher\n"
     ]
    }
   ],
   "source": [
    "# load the magic cypher\n",
    "%load_ext cypher\n",
    "# set matplotlib to plot inline\n",
    "%matplotlib inline"
   ]
  },
  {
   "cell_type": "code",
   "execution_count": 122,
   "metadata": {},
   "outputs": [],
   "source": [
    "# we might also want to increase the fig. size\n",
    "plt.rcParams['figure.figsize'] = (10, 6)"
   ]
  },
  {
   "cell_type": "code",
   "execution_count": 32,
   "metadata": {},
   "outputs": [
    {
     "name": "stdout",
     "output_type": "stream",
     "text": [
      "5 rows affected.\n"
     ]
    }
   ],
   "source": [
    "# let's test everything\n",
    "res = %cypher {conn} MATCH (n:Token) \\\n",
    "    where n.lemma = \"φθογγή\" \\\n",
    "    RETURN n.form as Form, count(*) as Count order by Count desc\n",
    "    \n",
    "df = res.get_dataframe()"
   ]
  },
  {
   "cell_type": "code",
   "execution_count": 33,
   "metadata": {},
   "outputs": [
    {
     "data": {
      "text/html": [
       "<div>\n",
       "<style>\n",
       "    .dataframe thead tr:only-child th {\n",
       "        text-align: right;\n",
       "    }\n",
       "\n",
       "    .dataframe thead th {\n",
       "        text-align: left;\n",
       "    }\n",
       "\n",
       "    .dataframe tbody tr th {\n",
       "        vertical-align: top;\n",
       "    }\n",
       "</style>\n",
       "<table border=\"1\" class=\"dataframe\">\n",
       "  <thead>\n",
       "    <tr style=\"text-align: right;\">\n",
       "      <th></th>\n",
       "      <th>Form</th>\n",
       "      <th>Count</th>\n",
       "    </tr>\n",
       "  </thead>\n",
       "  <tbody>\n",
       "    <tr>\n",
       "      <th>0</th>\n",
       "      <td>φθογγὴν</td>\n",
       "      <td>4</td>\n",
       "    </tr>\n",
       "    <tr>\n",
       "      <th>1</th>\n",
       "      <td>φθογγῆς</td>\n",
       "      <td>3</td>\n",
       "    </tr>\n",
       "    <tr>\n",
       "      <th>2</th>\n",
       "      <td>φθογγὰς</td>\n",
       "      <td>1</td>\n",
       "    </tr>\n",
       "    <tr>\n",
       "      <th>3</th>\n",
       "      <td>φθογγῇ</td>\n",
       "      <td>1</td>\n",
       "    </tr>\n",
       "    <tr>\n",
       "      <th>4</th>\n",
       "      <td>φθογγὰ</td>\n",
       "      <td>1</td>\n",
       "    </tr>\n",
       "  </tbody>\n",
       "</table>\n",
       "</div>"
      ],
      "text/plain": [
       "      Form  Count\n",
       "0  φθογγὴν      4\n",
       "1  φθογγῆς      3\n",
       "2  φθογγὰς      1\n",
       "3   φθογγῇ      1\n",
       "4   φθογγὰ      1"
      ]
     },
     "execution_count": 33,
     "metadata": {},
     "output_type": "execute_result"
    }
   ],
   "source": [
    "df"
   ]
  },
  {
   "cell_type": "markdown",
   "metadata": {},
   "source": [
    "# A Greek Grammar for college"
   ]
  },
  {
   "cell_type": "code",
   "execution_count": 41,
   "metadata": {
    "collapsed": true
   },
   "outputs": [],
   "source": [
    "from IPython.display import HTML, IFrame"
   ]
  },
  {
   "cell_type": "markdown",
   "metadata": {},
   "source": [
    "## Syntax of the simple sentence"
   ]
  },
  {
   "cell_type": "markdown",
   "metadata": {},
   "source": [
    "### §917: copula"
   ]
  },
  {
   "cell_type": "markdown",
   "metadata": {},
   "source": [
    "Let's read the text from [Perseus](http://www.perseus.tufts.edu/hopper/text?doc=Perseus%3Atext%3A1999.04.0007%3Asmythp%3D917)"
   ]
  },
  {
   "cell_type": "code",
   "execution_count": 45,
   "metadata": {},
   "outputs": [
    {
     "data": {
      "text/html": [
       "\n",
       "        <iframe\n",
       "            width=\"700\"\n",
       "            height=\"500\"\n",
       "            src=\"http://www.perseus.tufts.edu/hopper/text?doc=Perseus%3Atext%3A1999.04.0007%3Asmythp%3D917\"\n",
       "            frameborder=\"0\"\n",
       "            allowfullscreen\n",
       "        ></iframe>\n",
       "        "
      ],
      "text/plain": [
       "<IPython.lib.display.IFrame at 0x11e06b208>"
      ]
     },
     "execution_count": 45,
     "metadata": {},
     "output_type": "execute_result"
    }
   ],
   "source": [
    "IFrame(\"http://www.perseus.tufts.edu/hopper/text?doc=Perseus%3Atext%3A1999.04.0007%3Asmythp%3D917\", height=500, width=700)"
   ]
  },
  {
   "cell_type": "code",
   "execution_count": 46,
   "metadata": {},
   "outputs": [
    {
     "data": {
      "text/html": [
       "<?xml version=\"1.0\" encoding=\"utf-8\"?>\n",
       "<TEI.2><text><body><div1 type=\"Part\" n=\"4\" org=\"uniform\" sample=\"complete\"><div2 type=\"Chapter\" org=\"uniform\" sample=\"complete\"><milestone unit=\"smythp\" id=\"s917\" n=\"917\" /><p>\n",
       "<emph rend=\"bold\">Copula</emph>.—An indeterminate verb that serves simply to couple a predicate substantive or adjective to the subject is called a <emph rend=\"ital\">copula:</emph> <foreign lang=\"greek\">Ξενοφῶν ἦν Ἀθηναῖος</foreign> <gloss>Xenophon was an Athenian</gloss>. </p><p><emph rend=\"bold\">a.</emph> The most common copulative verbs are <foreign lang=\"greek\">εἶναι</foreign> <gloss>be</gloss> and <foreign lang=\"greek\">γίγνεσθαι</foreign> <gloss>become</gloss>. Many other verbs serve as copulas: <foreign lang=\"greek\">καθίστασθαι</foreign> <gloss>become</gloss>, <foreign lang=\"greek\">πεφυ_κέναι, ὑπάρχειν, πέλειν</foreign> (poetical) <gloss>be</gloss>, <foreign lang=\"greek\">δοκεῖν</foreign> <gloss>seem</gloss>, <foreign lang=\"greek\">φαίνεσθαι</foreign> <gloss>appear</gloss>. <foreign lang=\"greek\">καλεῖσθαι, ὀνομάζεσθαι, ἀκούειν, κλύειν</foreign> (poetical) <gloss>be called</gloss>, <foreign lang=\"greek\">τυγχάνειν, κυρεῖν</foreign> (poet.) <gloss>happen</gloss>, <gloss>turn out</gloss>, <foreign lang=\"greek\">αἱρεῖσθαι</foreign> <gloss>be chosen</gloss>, <foreign lang=\"greek\">νομίζεσθαι</foreign> <gloss>be regarded</gloss>, <foreign lang=\"greek\">κρί_νεσθαι</foreign> <gloss>be judged</gloss>, and the like.\n",
       "</p>\n",
       "</div2></div1></body></text></TEI.2>"
      ],
      "text/plain": [
       "<IPython.core.display.HTML object>"
      ]
     },
     "execution_count": 46,
     "metadata": {},
     "output_type": "execute_result"
    }
   ],
   "source": [
    "HTML(\"http://www.perseus.tufts.edu/hopper/xmlchunk?doc=Perseus%3Atext%3A1999.04.0007%3Asmythp%3D917\")"
   ]
  },
  {
   "cell_type": "markdown",
   "metadata": {},
   "source": [
    "#### What are the most frequent copular verbs in the treebank"
   ]
  },
  {
   "cell_type": "code",
   "execution_count": 47,
   "metadata": {},
   "outputs": [
    {
     "name": "stdout",
     "output_type": "stream",
     "text": [
      "61 rows affected.\n"
     ]
    }
   ],
   "source": [
    "res = %cypher {conn} MATCH (h:Token)-[r:Dependency]->(d:Token) \\\n",
    "    where r.type = \"PNOM\" \\\n",
    "    and h.pos = \"verb\" \\\n",
    "    RETURN h.lemma as Copula, count(h.lemma) as Total order by Total desc\n",
    "    \n",
    "df = res.get_dataframe()"
   ]
  },
  {
   "cell_type": "markdown",
   "metadata": {},
   "source": [
    "In total 61 verbs were annotated as head of nominal predicates. Let's see the 10 most frequent"
   ]
  },
  {
   "cell_type": "code",
   "execution_count": 48,
   "metadata": {},
   "outputs": [
    {
     "data": {
      "text/html": [
       "<div>\n",
       "<style>\n",
       "    .dataframe thead tr:only-child th {\n",
       "        text-align: right;\n",
       "    }\n",
       "\n",
       "    .dataframe thead th {\n",
       "        text-align: left;\n",
       "    }\n",
       "\n",
       "    .dataframe tbody tr th {\n",
       "        vertical-align: top;\n",
       "    }\n",
       "</style>\n",
       "<table border=\"1\" class=\"dataframe\">\n",
       "  <thead>\n",
       "    <tr style=\"text-align: right;\">\n",
       "      <th></th>\n",
       "      <th>Copula</th>\n",
       "      <th>Total</th>\n",
       "    </tr>\n",
       "  </thead>\n",
       "  <tbody>\n",
       "    <tr>\n",
       "      <th>0</th>\n",
       "      <td>εἰμί</td>\n",
       "      <td>1853</td>\n",
       "    </tr>\n",
       "    <tr>\n",
       "      <th>1</th>\n",
       "      <td>γίγνομαι</td>\n",
       "      <td>208</td>\n",
       "    </tr>\n",
       "    <tr>\n",
       "      <th>2</th>\n",
       "      <td>πέλω</td>\n",
       "      <td>92</td>\n",
       "    </tr>\n",
       "    <tr>\n",
       "      <th>3</th>\n",
       "      <td>φαίνω</td>\n",
       "      <td>47</td>\n",
       "    </tr>\n",
       "    <tr>\n",
       "      <th>4</th>\n",
       "      <td>φύω</td>\n",
       "      <td>39</td>\n",
       "    </tr>\n",
       "    <tr>\n",
       "      <th>5</th>\n",
       "      <td>καλέω</td>\n",
       "      <td>38</td>\n",
       "    </tr>\n",
       "    <tr>\n",
       "      <th>6</th>\n",
       "      <td>τεύχω</td>\n",
       "      <td>24</td>\n",
       "    </tr>\n",
       "    <tr>\n",
       "      <th>7</th>\n",
       "      <td>ἐάω</td>\n",
       "      <td>17</td>\n",
       "    </tr>\n",
       "    <tr>\n",
       "      <th>8</th>\n",
       "      <td>τελέθω</td>\n",
       "      <td>8</td>\n",
       "    </tr>\n",
       "    <tr>\n",
       "      <th>9</th>\n",
       "      <td>εἶμι</td>\n",
       "      <td>5</td>\n",
       "    </tr>\n",
       "  </tbody>\n",
       "</table>\n",
       "</div>"
      ],
      "text/plain": [
       "     Copula  Total\n",
       "0      εἰμί   1853\n",
       "1  γίγνομαι    208\n",
       "2      πέλω     92\n",
       "3     φαίνω     47\n",
       "4       φύω     39\n",
       "5     καλέω     38\n",
       "6     τεύχω     24\n",
       "7       ἐάω     17\n",
       "8    τελέθω      8\n",
       "9      εἶμι      5"
      ]
     },
     "execution_count": 48,
     "metadata": {},
     "output_type": "execute_result"
    }
   ],
   "source": [
    "df.head(10)"
   ]
  },
  {
   "cell_type": "markdown",
   "metadata": {},
   "source": [
    "(ἐάω and εἶμι are *very likely* annotation errors for εἰμί...)"
   ]
  },
  {
   "cell_type": "markdown",
   "metadata": {},
   "source": [
    "#### How frequent are nominal predicates for each author?"
   ]
  },
  {
   "cell_type": "markdown",
   "metadata": {},
   "source": [
    "As we'll do below (see [frequency of copular vs non copular use of εἰμί and γίγνομαι](#Frequency-of-copular-vs-non-copular-use-of-%CE%B5%E1%BC%B0%CE%BC%CE%AF-and-%CE%B3%CE%AF%CE%B3%CE%BD%CE%BF%CE%BC%CE%B1%CE%B9)), we'll get a full list of tokens and labels that we'll manipulate later using `pandas` to get an answer to the question.\n",
    "\n",
    "We'll get a ratio of tokens labeled as PNOM over the total of tokens per each author"
   ]
  },
  {
   "cell_type": "code",
   "execution_count": 75,
   "metadata": {},
   "outputs": [
    {
     "name": "stdout",
     "output_type": "stream",
     "text": [
      "328020 rows affected.\n"
     ]
    }
   ],
   "source": [
    "res = %cypher {conn} MATCH (s:Sentence)-[*]->(d:Token) \\\n",
    "    optional match (d)<-[r:Dependency]-() \\\n",
    "    RETURN s.author as Author, r.type as Relation \\\n",
    "    \n",
    "df = res.get_dataframe()"
   ]
  },
  {
   "cell_type": "code",
   "execution_count": 139,
   "metadata": {},
   "outputs": [],
   "source": [
    "auth_count = df.Author.value_counts()\n",
    "tab = df[df.Relation == \"PNOM\"].Author.value_counts()\n",
    "auths = tab.index\n",
    "ratios = pd.Series([v / auth_count[i] for i,v in tab.items()])"
   ]
  },
  {
   "cell_type": "code",
   "execution_count": 140,
   "metadata": {},
   "outputs": [
    {
     "data": {
      "text/html": [
       "<div>\n",
       "<style>\n",
       "    .dataframe thead tr:only-child th {\n",
       "        text-align: right;\n",
       "    }\n",
       "\n",
       "    .dataframe thead th {\n",
       "        text-align: left;\n",
       "    }\n",
       "\n",
       "    .dataframe tbody tr th {\n",
       "        vertical-align: top;\n",
       "    }\n",
       "</style>\n",
       "<table border=\"1\" class=\"dataframe\">\n",
       "  <thead>\n",
       "    <tr style=\"text-align: right;\">\n",
       "      <th></th>\n",
       "      <th>Author</th>\n",
       "      <th>PnomRatio</th>\n",
       "      <th>TotPnom</th>\n",
       "    </tr>\n",
       "  </thead>\n",
       "  <tbody>\n",
       "    <tr>\n",
       "      <th>0</th>\n",
       "      <td>Homer</td>\n",
       "      <td>0.011584</td>\n",
       "      <td>2689</td>\n",
       "    </tr>\n",
       "    <tr>\n",
       "      <th>1</th>\n",
       "      <td>Sophocles</td>\n",
       "      <td>0.020772</td>\n",
       "      <td>1011</td>\n",
       "    </tr>\n",
       "    <tr>\n",
       "      <th>2</th>\n",
       "      <td>Aeschylus</td>\n",
       "      <td>0.019149</td>\n",
       "      <td>904</td>\n",
       "    </tr>\n",
       "  </tbody>\n",
       "</table>\n",
       "</div>"
      ],
      "text/plain": [
       "      Author  PnomRatio  TotPnom\n",
       "0      Homer   0.011584     2689\n",
       "1  Sophocles   0.020772     1011\n",
       "2  Aeschylus   0.019149      904"
      ]
     },
     "execution_count": 140,
     "metadata": {},
     "output_type": "execute_result"
    }
   ],
   "source": [
    "summary = pd.DataFrame({\"Author\" : auths, \"TotPnom\" : tab.values, \"PnomRatio\" : ratios})\n",
    "summary"
   ]
  },
  {
   "cell_type": "markdown",
   "metadata": {},
   "source": [
    "Let's see a bar plot of the most used tagged in e.g. Homer"
   ]
  },
  {
   "cell_type": "code",
   "execution_count": 141,
   "metadata": {},
   "outputs": [],
   "source": [
    "leaveout = [\"AuxX\", \"AuxK\", 'UNDEFINED', \"XSEG\", 'AuxC', 'AuxV', 'AuxP', 'AuxY', 'AuxZ', 'AuxG',]\n",
    "dfhomer = df[(df.Author == \"Homer\") & (df.Relation.isin(leaveout) == False)]\n",
    "homrel = dfhomer.Relation.value_counts()"
   ]
  },
  {
   "cell_type": "code",
   "execution_count": 142,
   "metadata": {},
   "outputs": [
    {
     "data": {
      "text/plain": [
       "[]"
      ]
     },
     "execution_count": 142,
     "metadata": {},
     "output_type": "execute_result"
    },
    {
     "data": {
      "image/png": "[encoded data removed]",
      "text/plain": [
       "<matplotlib.figure.Figure at 0x14dbaae80>"
      ]
     },
     "metadata": {},
     "output_type": "display_data"
    }
   ],
   "source": [
    "import numpy as np\n",
    "\n",
    "x = np.arange(len(homrel))\n",
    "b = plt.bar(x, homrel.values)\n",
    "\n",
    "# now we color the PNOM-bar red\n",
    "b[6].set_color('r')\n",
    "plt.xticks(x, homrel.index)\n",
    "plt.plot()"
   ]
  },
  {
   "cell_type": "markdown",
   "metadata": {},
   "source": [
    "#### Frequency of copular vs non-copular use of εἰμί and γίγνομαι"
   ]
  },
  {
   "cell_type": "markdown",
   "metadata": {},
   "source": [
    "It would be totally possible to get the answer to that question returned directly as the output of a cypher query, but the query would be long, elaborate and possibly quite slow to run. It is much easier (and faster) if we ask for a list of passages with εἰμί or γίγνομαι and optionally test whether this verb has or not a child with the label PNOM. \n",
    "\n",
    "We'll do the math later on with `pandas`"
   ]
  },
  {
   "cell_type": "code",
   "execution_count": 148,
   "metadata": {},
   "outputs": [
    {
     "name": "stdout",
     "output_type": "stream",
     "text": [
      "3569 rows affected.\n"
     ]
    }
   ],
   "source": [
    "res = %cypher {conn} MATCH (h:Token) \\\n",
    "where h.lemma =~ \"(εἰμί|γίγνομαι)\"  \\\n",
    "OPTIONAL MATCH (h)-[:Dependency*1..2]->(d:Token) \\\n",
    "where d.original_label = \"PNOM\" \\\n",
    "return h.lemma as Copula, d.original_label as Relation \\\n",
    "    \n",
    "df = res.get_dataframe()"
   ]
  },
  {
   "cell_type": "markdown",
   "metadata": {},
   "source": [
    "Now that we have a list of these 3549 observations we use `pandas` to:\n",
    "* map the `None` to Non-copular and the PNOM to `Copular`\n",
    "* create a table"
   ]
  },
  {
   "cell_type": "code",
   "execution_count": 149,
   "metadata": {},
   "outputs": [],
   "source": [
    "df[\"Construction\"] = df['Relation'].apply(lambda x: \"Copular\" if x == \"PNOM\" else \"Non copular\")"
   ]
  },
  {
   "cell_type": "code",
   "execution_count": 150,
   "metadata": {},
   "outputs": [
    {
     "data": {
      "text/html": [
       "<div>\n",
       "<style>\n",
       "    .dataframe thead tr:only-child th {\n",
       "        text-align: right;\n",
       "    }\n",
       "\n",
       "    .dataframe thead th {\n",
       "        text-align: left;\n",
       "    }\n",
       "\n",
       "    .dataframe tbody tr th {\n",
       "        vertical-align: top;\n",
       "    }\n",
       "</style>\n",
       "<table border=\"1\" class=\"dataframe\">\n",
       "  <thead>\n",
       "    <tr style=\"text-align: right;\">\n",
       "      <th>Construction</th>\n",
       "      <th>Copular</th>\n",
       "      <th>Non copular</th>\n",
       "    </tr>\n",
       "    <tr>\n",
       "      <th>Copula</th>\n",
       "      <th></th>\n",
       "      <th></th>\n",
       "    </tr>\n",
       "  </thead>\n",
       "  <tbody>\n",
       "    <tr>\n",
       "      <th>γίγνομαι</th>\n",
       "      <td>216</td>\n",
       "      <td>270</td>\n",
       "    </tr>\n",
       "    <tr>\n",
       "      <th>εἰμί</th>\n",
       "      <td>1930</td>\n",
       "      <td>1153</td>\n",
       "    </tr>\n",
       "  </tbody>\n",
       "</table>\n",
       "</div>"
      ],
      "text/plain": [
       "Construction  Copular  Non copular\n",
       "Copula                            \n",
       "γίγνομαι          216          270\n",
       "εἰμί             1930         1153"
      ]
     },
     "execution_count": 150,
     "metadata": {},
     "output_type": "execute_result"
    }
   ],
   "source": [
    "pd.crosstab(df.Copula, df.Construction)"
   ]
  },
  {
   "cell_type": "markdown",
   "metadata": {},
   "source": [
    "Here we go! We have our numbers.\n",
    "\n",
    "Do read them with a grain of salt, though. The query is constructed to bypass a couple of situations that might muddy the waters; I can think of two cases:\n",
    "\n",
    "* the verb governed two or more coordinated PNOMs\n",
    "* the PNOM is governed by a preposition (some cases of εἰμί|γίγνομαι + prepositions were labelled as such: possibly, it is an error, but they're there)\n",
    "\n",
    "That's why in line 3 above we ask for: \n",
    "\n",
    "```cypher\n",
    "\n",
    "OPTIONAL MATCH (h)-[:Dependency*1..2]->(d:Token)\n",
    "\n",
    "```\n",
    "\n",
    "i.e. a node `h` governing `d` (as PNOM) at a distance of 1 *or 2*; that would allow us to bypass a bridge relation of COORD or AuxP. But it is totally possible that we cast our nets too widely..."
   ]
  },
  {
   "cell_type": "code",
   "execution_count": null,
   "metadata": {
    "collapsed": true
   },
   "outputs": [],
   "source": []
  }
 ],
 "metadata": {
  "kernelspec": {
   "display_name": "Python [conda root]",
   "language": "python",
   "name": "conda-root-py"
  },
  "language_info": {
   "codemirror_mode": {
    "name": "ipython",
    "version": 3
   },
   "file_extension": ".py",
   "mimetype": "text/x-python",
   "name": "python",
   "nbconvert_exporter": "python",
   "pygments_lexer": "ipython3",
   "version": "3.6.3"
  },
  "toc": {
   "nav_menu": {},
   "number_sections": true,
   "sideBar": true,
   "skip_h1_title": false,
   "title_cell": "Table of Contents",
   "title_sidebar": "Contents",
   "toc_cell": false,
   "toc_position": {},
   "toc_section_display": true,
   "toc_window_display": false
  }
 },
 "nbformat": 4,
 "nbformat_minor": 2
}
